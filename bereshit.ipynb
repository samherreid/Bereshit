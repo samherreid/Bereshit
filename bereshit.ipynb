{
 "cells": [
  {
   "cell_type": "code",
   "execution_count": 40,
   "metadata": {},
   "outputs": [],
   "source": [
    "from IPython.display import clear_output\n",
    "! pip install numpy matplotlib\n",
    "import numpy as np\n",
    "import matplotlib.pyplot as plt\n",
    "clear_output()"
   ]
  },
  {
   "cell_type": "markdown",
   "metadata": {},
   "source": [
    "**בראשית** ברא אלהים את השמים ואת הארץ\n"
   ]
  },
  {
   "cell_type": "code",
   "execution_count": 41,
   "metadata": {},
   "outputs": [
    {
     "name": "stdout",
     "output_type": "stream",
     "text": [
      "Hello world\n"
     ]
    }
   ],
   "source": [
    "print(\"Hello world\")"
   ]
  },
  {
   "cell_type": "markdown",
   "metadata": {},
   "source": [
    "  **יחזק הרקיע** (רש''י)"
   ]
  },
  {
   "cell_type": "markdown",
   "metadata": {},
   "source": [
    "$$\n",
    "Q = -m \\cdot L_f\n",
    "$$\n",
    "\n",
    "- $Q$ (J)\n",
    "- $m$ (g)\n",
    "- $L_f$ (334 J/g)\n",
    "\n"
   ]
  },
  {
   "cell_type": "markdown",
   "metadata": {},
   "source": [
    "ויאמר אלהים יהי רקיע בתוך המים **ויהי מבדיל בין מים למים**\n"
   ]
  },
  {
   "cell_type": "markdown",
   "metadata": {},
   "source": [
    "$$\n",
    "\\delta^{18}\\text{O} = \\left( \\frac{\\left( \\frac{^{18}\\text{O}}{^{16}\\text{O}} \\right)_{\\text{sample}}}{\\left( \\frac{^{18}\\text{O}}{^{16}\\text{O}} \\right)_{\\text{standard}}} - 1 \\right) \\times 1000 \\, \\text{‰}\n",
    "$$"
   ]
  },
  {
   "cell_type": "markdown",
   "metadata": {},
   "source": [
    "פאי הוגדר לשלוש. בזמן הנסים, הפרעות. והתכנסות "
   ]
  },
  {
   "cell_type": "markdown",
   "metadata": {},
   "source": [
    "וידע קין את־אשתו ותהר ותלד את־חנוך **ויהי בנה עיר** ויקרא שם העיר כשם בנו חנוך\n"
   ]
  }
 ],
 "metadata": {
  "kernelspec": {
   "display_name": "sampi",
   "language": "python",
   "name": "python3"
  },
  "language_info": {
   "codemirror_mode": {
    "name": "ipython",
    "version": 3
   },
   "file_extension": ".py",
   "mimetype": "text/x-python",
   "name": "python",
   "nbconvert_exporter": "python",
   "pygments_lexer": "ipython3",
   "version": "3.11.2"
  }
 },
 "nbformat": 4,
 "nbformat_minor": 2
}
