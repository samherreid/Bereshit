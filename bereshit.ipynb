{
 "cells": [
  {
   "cell_type": "markdown",
   "metadata": {},
   "source": [
    "**בראשית** ברא אלהים את השמים ואת הארץ\n"
   ]
  },
  {
   "cell_type": "code",
   "execution_count": 1,
   "metadata": {},
   "outputs": [
    {
     "name": "stdout",
     "output_type": "stream",
     "text": [
      "Hello world\n"
     ]
    }
   ],
   "source": [
    "print(\"Hello world\")"
   ]
  },
  {
   "cell_type": "markdown",
   "metadata": {},
   "source": [
    "  **יחזק הרקיע** (רש''י)"
   ]
  },
  {
   "cell_type": "markdown",
   "metadata": {},
   "source": [
    "$$\n",
    "Q = -m \\cdot L_f\n",
    "$$\n",
    "\n",
    "- $Q$ (J)\n",
    "- $m$ (g)\n",
    "- $L_f$ (334 J/g)\n",
    "\n"
   ]
  },
  {
   "cell_type": "markdown",
   "metadata": {},
   "source": [
    "ויאמר אלהים יהי רקיע בתוך המים **ויהי מבדיל בין מים למים**\n"
   ]
  },
  {
   "cell_type": "markdown",
   "metadata": {},
   "source": [
    "$$\n",
    "\\delta^{18}\\text{O} = \\left( \\frac{\\left( \\frac{^{18}\\text{O}}{^{16}\\text{O}} \\right)_{\\text{sample}}}{\\left( \\frac{^{18}\\text{O}}{^{16}\\text{O}} \\right)_{\\text{standard}}} - 1 \\right) \\times 1000 \\, \\text{‰}\n",
    "$$"
   ]
  },
  {
   "cell_type": "markdown",
   "metadata": {},
   "source": [
    "ויעש אלהים את־הרקיע **ויבדל בין המים אשר מתחת לרקיע ובין המים אשר מעל לרקיע** ויהי־כן\n"
   ]
  },
  {
   "cell_type": "markdown",
   "metadata": {},
   "source": [
    "$$\n",
    "P = \\rho \\cdot g \\cdot h\n",
    "$$\n",
    "\n",
    "- $P$ (Pa)\n",
    "- $\\rho$ (kg/m³)\n",
    "- $g$ (m/s²)\n",
    "- $h$ (m)\n",
    "\n",
    "$$\n",
    "T_m = T_0 - \\gamma \\cdot P\n",
    "$$\n",
    "\n",
    "- $T_m$ (°C)\n",
    "- $T_0$ (°C)\n",
    "- $\\gamma$ (°C/Pa)\n",
    "\n",
    "$$\n",
    "q_c = k \\cdot \\frac{\\Delta T}{d}\n",
    "$$\n",
    "\n",
    "- $q_c$ (W/m²)\n",
    "- $k$ (W/m·K)\n",
    "- $\\Delta T$ (K)\n",
    "- $d$ (m)\n",
    "\n",
    "$$\n",
    "q_g \\geq q_c + \\rho \\cdot L \\cdot \\frac{\\partial h}{\\partial t}\n",
    "$$\n",
    "\n",
    "- $q_g$ (W/m²)\n",
    "- $q_c$ (W/m²)\n",
    "- $\\rho$ (kg/m³)\n",
    "- $L$ (J/kg)\n",
    "- $\\frac{\\partial h}{\\partial t}$ (m/s)\n"
   ]
  },
  {
   "cell_type": "markdown",
   "metadata": {},
   "source": [
    "ויקרא אלהים  לאור יום ולחשך קרא לילה **ויהי־ערב ויהי־בקר יום אחד**\n",
    "\n",
    "\n",
    "... ויקרא אלהים לרקיע שמים ויהי־ערב **ויהי־בקר יום שני**"
   ]
  },
  {
   "cell_type": "code",
   "execution_count": 1,
   "metadata": {},
   "outputs": [],
   "source": [
    "import numpy as np\n",
    "import inspect\n",
    "import re\n",
    "import concurrent.futures\n",
    "\n",
    "a = [(4, 5), (7, 3), (6, 6)]"
   ]
  },
  {
   "cell_type": "code",
   "execution_count": 3,
   "metadata": {},
   "outputs": [
    {
     "name": "stdout",
     "output_type": "stream",
     "text": [
      "Result: ['day1', 'x * y', 20, 21, 36, 'Good', 'day2', '2 * (x + y)', 18, 20, 24, 'Good']\n"
     ]
    }
   ],
   "source": [
    "def day1(a):\n",
    "    return [x * y for x, y in a]\n",
    "\n",
    "def day2(a):\n",
    "    return [2 * (x + y) for x, y in a]\n",
    "\n",
    "def main():\n",
    "    result = []\n",
    "\n",
    "    for func in [day1, day2]:\n",
    "        source = inspect.getsource(func)\n",
    "        match = re.search(r'return\\s*\\[\\s*(.+?)\\s*for', source)\n",
    "        equation = match.group(1)\n",
    "        \n",
    "        computed_results = func(a)\n",
    "        \n",
    "        items = [func.__name__, equation] + computed_results\n",
    "        if computed_results:\n",
    "            items.append('Good')\n",
    "        else:\n",
    "            items.append('Not good')\n",
    "        \n",
    "        result.extend(items)\n",
    "        \n",
    "    print(\"Result:\", result)\n",
    "\n",
    "if __name__ == \"__main__\":\n",
    "    main()"
   ]
  },
  {
   "cell_type": "code",
   "execution_count": 4,
   "metadata": {},
   "outputs": [
    {
     "name": "stdout",
     "output_type": "stream",
     "text": [
      "Result: ['day1', 'x * y', 20, 21, 36, 'Good', 'day2', '2 * (x + y)', 18, 20, 24, 'Good']\n"
     ]
    }
   ],
   "source": [
    "def day1(a):\n",
    "    eq = 'x * y'\n",
    "    results = [int(round(np.imag((x + 1j * y)**2) / 2)) for x, y in a]\n",
    "    return eq, results\n",
    "\n",
    "def day2(a):\n",
    "    eq = '2 * (x + y)'\n",
    "    results = [int(round(2 * np.real(((x + 1j * y) + (y + 1j * x)) / (1 + 1j)))) for x, y in a]\n",
    "    return eq, results\n",
    "\n",
    "def main():\n",
    "    result = []\n",
    "\n",
    "    for func in [day1, day2]:\n",
    "        eq, results = func(a)\n",
    "\n",
    "        items = [func.__name__, eq] + results\n",
    "        if results:\n",
    "            items.append('Good')\n",
    "        else:\n",
    "            items.append('Not good')\n",
    "        result.extend(items)\n",
    "        \n",
    "    print(\"Result:\", result)\n",
    "\n",
    "if __name__ == \"__main__\":\n",
    "    main()"
   ]
  },
  {
   "cell_type": "code",
   "execution_count": 5,
   "metadata": {},
   "outputs": [
    {
     "name": "stdout",
     "output_type": "stream",
     "text": [
      "Result: ['day2', '2 * (x + y)', 18, 20, 24, 'Good', 'day1', 'x * y', 20, 21, 36, 'Good']\n"
     ]
    }
   ],
   "source": [
    "def day1(a):\n",
    "    eq = 'x * y'\n",
    "    dummy = 0\n",
    "    for i in range(10**7):\n",
    "        dummy += i % 10\n",
    "    results = [x * y for x, y in a]\n",
    "    return eq, results\n",
    "\n",
    "def day2(a):\n",
    "    eq = '2 * (x + y)'\n",
    "    results = [2 * (x + y) for x, y in a]\n",
    "    return eq, results\n",
    "\n",
    "def main():\n",
    "    result = []\n",
    "    funcs = [day1, day2]\n",
    "    \n",
    "    with concurrent.futures.ThreadPoolExecutor() as executor:\n",
    "        future_to_func = {executor.submit(func, a): func for func in funcs}\n",
    "        for future in concurrent.futures.as_completed(future_to_func):\n",
    "            func = future_to_func[future]\n",
    "            eq, results = future.result()\n",
    "            items = [func.__name__, eq] + results\n",
    "            if results:\n",
    "                items.append('Good')\n",
    "            else:\n",
    "                items.append('Not good')\n",
    "            result.extend(items)\n",
    "    \n",
    "    print(\"Result:\", result)\n",
    "\n",
    "if __name__ == \"__main__\":\n",
    "    main()"
   ]
  },
  {
   "cell_type": "markdown",
   "metadata": {},
   "source": [
    "**אנא בכח**\n"
   ]
  },
  {
   "cell_type": "code",
   "execution_count": 6,
   "metadata": {},
   "outputs": [
    {
     "name": "stdout",
     "output_type": "stream",
     "text": [
      "0000010111011001 0000010111010100\n"
     ]
    }
   ],
   "source": [
    "text = \"יה\"\n",
    "print(' '.join(f\"{ord(char):016b}\" for char in text))"
   ]
  },
  {
   "cell_type": "markdown",
   "metadata": {},
   "source": [
    "ויחדלו הקלות והברד ומטר לא נתך ארצה, תלאן ברפיון, **ואימתי ירדו?** בימי יהושע על האמוריים, והשאר עתידין לירד בימי גוג ומגוג"
   ]
  },
  {
   "cell_type": "markdown",
   "metadata": {},
   "source": [
    "$$\n",
    "\\frac{\\partial \\rho}{\\partial t} + \\nabla \\cdot (\\rho \\mathbf{v}) = 0\n",
    "$$\n",
    "\n",
    "- $\\rho$ (kg/m³)\n",
    "- $t$ (s)\n",
    "- $\\mathbf{v}$ (m/s)\n"
   ]
  },
  {
   "cell_type": "markdown",
   "metadata": {},
   "source": [
    "וידע קין את־אשתו ותהר ותלד את־חנוך **ויהי בנה עיר** ויקרא שם העיר כשם בנו חנוך\n"
   ]
  }
 ],
 "metadata": {
  "kernelspec": {
   "display_name": "fdm_env",
   "language": "python",
   "name": "python3"
  },
  "language_info": {
   "codemirror_mode": {
    "name": "ipython",
    "version": 3
   },
   "file_extension": ".py",
   "mimetype": "text/x-python",
   "name": "python",
   "nbconvert_exporter": "python",
   "pygments_lexer": "ipython3",
   "version": "3.11.2"
  }
 },
 "nbformat": 4,
 "nbformat_minor": 2
}
