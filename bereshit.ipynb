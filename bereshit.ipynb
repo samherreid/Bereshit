{
 "cells": [
  {
   "cell_type": "markdown",
   "metadata": {},
   "source": [
    "**בראשית** ברא אלהים את השמים ואת הארץ\n"
   ]
  },
  {
   "cell_type": "code",
   "execution_count": 1,
   "metadata": {},
   "outputs": [
    {
     "name": "stdout",
     "output_type": "stream",
     "text": [
      "Hello world\n"
     ]
    }
   ],
   "source": [
    "print(\"Hello world\")"
   ]
  },
  {
   "cell_type": "markdown",
   "metadata": {},
   "source": [
    "  **יחזק הרקיע** (רש''י)"
   ]
  },
  {
   "cell_type": "markdown",
   "metadata": {},
   "source": [
    "$$\n",
    "Q = -m \\cdot L_f\n",
    "$$\n",
    "\n",
    "- $Q$ (J)\n",
    "- $m$ (g)\n",
    "- $L_f$ (334 J/g)\n",
    "\n"
   ]
  },
  {
   "cell_type": "markdown",
   "metadata": {},
   "source": [
    "ויאמר אלהים יהי רקיע בתוך המים **ויהי מבדיל בין מים למים**\n"
   ]
  },
  {
   "cell_type": "markdown",
   "metadata": {},
   "source": [
    "$$\n",
    "\\delta^{18}\\text{O} = \\left( \\frac{\\left( \\frac{^{18}\\text{O}}{^{16}\\text{O}} \\right)_{\\text{sample}}}{\\left( \\frac{^{18}\\text{O}}{^{16}\\text{O}} \\right)_{\\text{standard}}} - 1 \\right) \\times 1000 \\, \\text{‰}\n",
    "$$"
   ]
  },
  {
   "cell_type": "markdown",
   "metadata": {},
   "source": [
    "ויעש אלהים את־הרקיע **ויבדל בין המים אשר מתחת לרקיע ובין המים אשר מעל לרקיע** ויהי־כן\n"
   ]
  },
  {
   "cell_type": "markdown",
   "metadata": {},
   "source": [
    "$$\n",
    "P = \\rho \\cdot g \\cdot h\n",
    "$$\n",
    "\n",
    "- $P$ (Pa)\n",
    "- $\\rho$ (kg/m³)\n",
    "- $g$ (m/s²)\n",
    "- $h$ (m)\n",
    "\n",
    "$$\n",
    "T_m = T_0 - \\gamma \\cdot P\n",
    "$$\n",
    "\n",
    "- $T_m$ (°C)\n",
    "- $T_0$ (°C)\n",
    "- $\\gamma$ (°C/Pa)\n",
    "\n",
    "$$\n",
    "q_c = k \\cdot \\frac{\\Delta T}{d}\n",
    "$$\n",
    "\n",
    "- $q_c$ (W/m²)\n",
    "- $k$ (W/m·K)\n",
    "- $\\Delta T$ (K)\n",
    "- $d$ (m)\n",
    "\n",
    "$$\n",
    "q_g \\geq q_c + \\rho \\cdot L \\cdot \\frac{\\partial h}{\\partial t}\n",
    "$$\n",
    "\n",
    "- $q_g$ (W/m²)\n",
    "- $q_c$ (W/m²)\n",
    "- $\\rho$ (kg/m³)\n",
    "- $L$ (J/kg)\n",
    "- $\\frac{\\partial h}{\\partial t}$ (m/s)\n"
   ]
  },
  {
   "cell_type": "markdown",
   "metadata": {},
   "source": [
    "ויקרא אלהים  לאור יום ולחשך קרא לילה **ויהי־ערב ויהי־בקר יום אחד**\n",
    "\n",
    "\n",
    "ויקרא אלהים לרקיע שמים ויהי־ערב **ויהי־בקר יום שני**\n",
    "\n",
    "\n",
    "**...ויהי־ערב ויהי־בקר יום שלישי**"
   ]
  },
  {
   "cell_type": "code",
   "execution_count": 2,
   "metadata": {},
   "outputs": [
    {
     "name": "stdout",
     "output_type": "stream",
     "text": [
      "Linear logic: [{'x, y': [4, 5], 'area': 20, 'perimeter': 18}, {'x, y': [7, 3], 'area': 21, 'perimeter': 20}, {'x, y': [6, 6], 'area': 36, 'perimeter': 24}]\n"
     ]
    }
   ],
   "source": [
    "def area(x, y):\n",
    "    return x * y\n",
    "\n",
    "def perimeter(x, y):\n",
    "    return 2 * (x + y)\n",
    "\n",
    "def linear_logic(a):\n",
    "    results = []\n",
    "    for xy in a:\n",
    "        x, y = xy\n",
    "        ar = area(x, y)\n",
    "        per = perimeter(x, y)\n",
    "        results.append({\"x, y\": [x,y], \"area\": ar, \"perimeter\": per})\n",
    "    return results\n",
    "\n",
    "a = [(4, 5), (7, 3), (6, 6)]\n",
    "print(\"Linear logic:\", linear_logic(a))"
   ]
  },
  {
   "cell_type": "code",
   "execution_count": 3,
   "metadata": {},
   "outputs": [
    {
     "name": "stdout",
     "output_type": "stream",
     "text": [
      "Parallel logic: [{'x, y': [4, 5], 'area': 20, 'perimeter': 18}, {'x, y': [7, 3], 'area': 21, 'perimeter': 20}, {'x, y': [6, 6], 'area': 36, 'perimeter': 24}]\n"
     ]
    }
   ],
   "source": [
    "from concurrent.futures import ThreadPoolExecutor\n",
    "\n",
    "def area(xy):\n",
    "    x, y = xy\n",
    "    return {\"x, y\": [x,y], 'area': x * y}\n",
    "\n",
    "def perimeter(xy):\n",
    "    x, y = xy\n",
    "    return {\"x, y\": [x,y], 'perimeter': 2 * (x + y)}\n",
    "\n",
    "def parallel_logic(a):\n",
    "    results = []\n",
    "    with ThreadPoolExecutor() as executor:\n",
    "        areas = executor.map(area, a)\n",
    "        perimeters = executor.map(perimeter, a)\n",
    "        for ar, per in zip(areas, perimeters):\n",
    "            results.append({\n",
    "                \"x, y\": [ar[\"x, y\"][0], ar[\"x, y\"][1]],\n",
    "                \"area\": ar[\"area\"],\n",
    "                \"perimeter\": per[\"perimeter\"]\n",
    "            })\n",
    "    return results\n",
    "\n",
    "a = [(4, 5), (7, 3), (6, 6)]\n",
    "print(\"Parallel logic:\", parallel_logic(a))"
   ]
  },
  {
   "cell_type": "markdown",
   "metadata": {},
   "source": [
    "וידע קין את־אשתו ותהר ותלד את־חנוך **ויהי בנה עיר** ויקרא שם העיר כשם בנו חנוך\n"
   ]
  }
 ],
 "metadata": {
  "kernelspec": {
   "display_name": "sampi",
   "language": "python",
   "name": "python3"
  },
  "language_info": {
   "codemirror_mode": {
    "name": "ipython",
    "version": 3
   },
   "file_extension": ".py",
   "mimetype": "text/x-python",
   "name": "python",
   "nbconvert_exporter": "python",
   "pygments_lexer": "ipython3",
   "version": "3.11.2"
  }
 },
 "nbformat": 4,
 "nbformat_minor": 2
}
