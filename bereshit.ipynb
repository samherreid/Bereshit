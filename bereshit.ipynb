{
 "cells": [
  {
   "cell_type": "code",
   "execution_count": 40,
   "metadata": {},
   "outputs": [],
   "source": [
    "from IPython.display import clear_output\n",
    "! pip install numpy matplotlib\n",
    "import numpy as np\n",
    "import matplotlib.pyplot as plt\n",
    "clear_output()"
   ]
  },
  {
   "cell_type": "markdown",
   "metadata": {},
   "source": [
    "**בראשית** ברא אלהים את השמים ואת הארץ\n"
   ]
  },
  {
   "cell_type": "code",
   "execution_count": 41,
   "metadata": {},
   "outputs": [
    {
     "name": "stdout",
     "output_type": "stream",
     "text": [
      "Hello world\n"
     ]
    }
   ],
   "source": [
    "print(\"Hello world\")"
   ]
  },
  {
   "cell_type": "markdown",
   "metadata": {},
   "source": [
    "  **יחזק הרקיע** (רש''י)"
   ]
  },
  {
   "cell_type": "markdown",
   "metadata": {},
   "source": [
    "$$\n",
    "Q = -m \\cdot L_f\n",
    "$$\n",
    "\n",
    "- $Q$ (J)\n",
    "- $m$ (g)\n",
    "- $L_f$ (334 J/g)\n",
    "\n"
   ]
  },
  {
   "cell_type": "markdown",
   "metadata": {},
   "source": [
    "ויאמר אלהים יהי רקיע בתוך המים **ויהי מבדיל בין מים למים**\n"
   ]
  },
  {
   "cell_type": "markdown",
   "metadata": {},
   "source": [
    "$$\n",
    "\\delta^{18}\\text{O} = \\left( \\frac{\\left( \\frac{^{18}\\text{O}}{^{16}\\text{O}} \\right)_{\\text{sample}}}{\\left( \\frac{^{18}\\text{O}}{^{16}\\text{O}} \\right)_{\\text{standard}}} - 1 \\right) \\times 1000 \\, \\text{‰}\n",
    "$$"
   ]
  },
  {
   "cell_type": "markdown",
   "metadata": {},
   "source": [
    "פאי הוגדר לשלוש. בזמן הנסים, הפרעות. והתכנסות "
   ]
  },
  {
   "cell_type": "markdown",
   "metadata": {},
   "source": [
    "וידע קין את־אשתו ותהר ותלד את־חנוך **ויהי בנה עיר** ויקרא שם העיר כשם בנו חנוך\n"
   ]
  },
  {
   "cell_type": "code",
   "execution_count": 85,
   "metadata": {},
   "outputs": [
    {
     "data": {
      "image/png": "[encoded data removed]",
      "text/plain": [
       "<Figure size 1000x600 with 2 Axes>"
      ]
     },
     "metadata": {},
     "output_type": "display_data"
    }
   ],
   "source": [
    "year = [\n",
    "    -4.5e9,   # Earth's formation (~4.5 billion years ago)\n",
    "    -10000,   # ~10,000 BCE (start of agriculture, ~4 million people globally)\n",
    "    1,        # 1 CE (approx. 170 million people worldwide)\n",
    "    1000,     # 1000 CE (estimated 275 million people)\n",
    "    1500,     # 1500 CE (population rises to ~450 million)\n",
    "    1800,     # 1800 CE (industrial revolution starts, ~1 billion people)\n",
    "    1900,     # 1900 CE (early 20th century, ~1.6 billion people)\n",
    "    1950,     # 1950 CE (post-WWII boom, ~2.5 billion people)\n",
    "    2000,     # 2000 CE (6.1 billion people)\n",
    "    2024      # Current estimate (2024, ~8.16 billion people)\n",
    "]\n",
    "\n",
    "population = [\n",
    "    0,           # No human population at Earth's formation\n",
    "    4e6,         # Around 4 million people by the start of agriculture\n",
    "    170e6,       # Population rises to ~170 million by 1 CE\n",
    "    275e6,       # Population around 1000 CE, approximately 275 million\n",
    "    450e6,       # Population around 1500 CE, about 450 million\n",
    "    1e9,         # By 1800 CE, reaches 1 billion (industrial revolution)\n",
    "    1.6e9,       # 1900 CE, early 20th century, ~1.6 billion\n",
    "    2.5e9,       # Post-WWII boom (1950), ~2.5 billion\n",
    "    6.1e9,       # Rapid growth by 2000, ~6.1 billion\n",
    "    8.16e9       # Current population estimate, 2024\n",
    "]\n",
    "\n",
    "jewish_years = [-4000, 1000, 1500, 1800, 1900, 1950, 2000, 2024]\n",
    "\n",
    "jewish_population = [\n",
    "    2,           # Early Jewish population\n",
    "    1e6,         # 1000 CE, ~1 million\n",
    "    1.2e6,       # 1500 CE, ~1.2 million\n",
    "    2e6,         # 1800 CE, ~2 million\n",
    "    7e6,         # 1900 CE, ~7 million (before WWII)\n",
    "    11e6,        # 1950 CE, ~11 million (post-WWII recovery)\n",
    "    13.5e6,      # 2000 CE, ~13.5 million\n",
    "    15.3e6       # 2024 CE, current estimate of ~15.3 million\n",
    "]\n",
    "\n",
    "plt.figure(figsize=(10, 6))\n",
    "plt.plot(year, population, linestyle='-', color='teal', label=\"םישנא רפסמ\")\n",
    "plt.plot(jewish_years, jewish_population, linestyle='-', color='blue', label=\"םידוהי רפסמ\")\n",
    "plt.plot(jewish_years[0], jewish_population[0], marker='o', color='blue', markersize=3, linestyle='None', label=\"הוחו םדא\")\n",
    "\n",
    "plt.xscale('symlog', linthresh=1e4)\n",
    "plt.xlabel('םינש')\n",
    "plt.ylabel('רפסמ')\n",
    "plt.legend()\n",
    "\n",
    "inset_left = 0.45\n",
    "inset_bottom = 0.45\n",
    "inset_width = 0.35\n",
    "inset_height = 0.35\n",
    "\n",
    "inset_ax = plt.axes([inset_left, inset_bottom, inset_width, inset_height])\n",
    "\n",
    "inset_ax.plot(year, population, linestyle='-', color='teal')\n",
    "inset_ax.plot(jewish_years, jewish_population, linestyle='-', color='blue')\n",
    "inset_ax.plot(jewish_years[0], jewish_population[0], marker='o', color='blue', markersize=5, linestyle='None')\n",
    "\n",
    "inset_ax.set_xlim(-5000, 2024)\n",
    "inset_ax.set_ylim(0, 15e6)\n",
    "inset_ax.set_xticks([-5000, 0, 2024])\n",
    "inset_ax.set_yticks([0, 10e6])\n",
    "\n",
    "inset_ax.set_xlabel('םינש')\n",
    "inset_ax.set_ylabel('רפסמ')\n",
    "inset_ax.tick_params(axis='both', which='major', labelsize=8)\n",
    "\n",
    "plt.show()\n"
   ]
  },
  {
   "cell_type": "code",
   "execution_count": 101,
   "metadata": {},
   "outputs": [
    {
     "name": "stdout",
     "output_type": "stream",
     "text": [
      "At -4500000000 years, humans do not meet sufficient intellect.\n",
      "At -10000 years, humans do not meet sufficient intellect.\n",
      "At 1 years, humans meet sufficient intellect, initialize Chosen prototype.\n",
      "At 1000 years, proto-Chosen in moral spin up to receive Torah.\n",
      "At 1500 years, proto-Chosen meet sufficient criteria to receive Torah.\n"
     ]
    }
   ],
   "source": [
    "human_intellect = False\n",
    "\n",
    "for i, n in enumerate(population):\n",
    "\n",
    "    if not human_intellect and n > 4e6:\n",
    "        human_intellect = True\n",
    "        print(f\"At {int(year[i])} years, humans meet sufficient intellect, initialize Chosen prototype.\")\n",
    "    \n",
    "    elif human_intellect and n <= 275e6:\n",
    "        print(f\"At {int(year[i])} years, proto-Chosen in moral spin up to receive Torah.\")\n",
    "\n",
    "    elif human_intellect and n > 275e6:\n",
    "        print(f\"At {int(year[i])} years, proto-Chosen meet sufficient criteria to receive Torah.\")\n",
    "        break\n",
    "    else:\n",
    "        print(f\"At {int(year[i])} years, humans do not meet sufficient intellect.\")"
   ]
  }
 ],
 "metadata": {
  "kernelspec": {
   "display_name": "sampi",
   "language": "python",
   "name": "python3"
  },
  "language_info": {
   "codemirror_mode": {
    "name": "ipython",
    "version": 3
   },
   "file_extension": ".py",
   "mimetype": "text/x-python",
   "name": "python",
   "nbconvert_exporter": "python",
   "pygments_lexer": "ipython3",
   "version": "3.11.2"
  }
 },
 "nbformat": 4,
 "nbformat_minor": 2
}
